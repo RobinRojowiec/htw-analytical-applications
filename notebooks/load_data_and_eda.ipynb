{
 "cells": [
  {
   "cell_type": "markdown",
   "id": "1eccdce5-2908-40df-900d-3f3364fcffaf",
   "metadata": {},
   "source": [
    "## Data Source"
   ]
  },
  {
   "cell_type": "markdown",
   "id": "b24ffa7a-2efd-4581-b33b-49601a708971",
   "metadata": {},
   "source": [
    "### Climate 100 GHG Emissions\n",
    "https://wikirate.org/Climate_100_GHG_Emissions\n",
    "\n",
    "- Data quality?\n"
   ]
  },
  {
   "cell_type": "markdown",
   "id": "b7c3d6ca-e0b5-4c80-be20-e93f70aabfe3",
   "metadata": {},
   "source": [
    "## Load data from csv"
   ]
  },
  {
   "cell_type": "code",
   "execution_count": 3,
   "id": "82b77fac-6d41-4553-831f-a4b67691aa41",
   "metadata": {},
   "outputs": [],
   "source": [
    "file_name = \"../data/WikiRate-2024_04_07_165420-Climate_100_GHG_Emissions+Answer-extended.csv\""
   ]
  },
  {
   "cell_type": "code",
   "execution_count": 4,
   "id": "1a23c21b-f6b9-4937-bc85-9fec02f0a3ef",
   "metadata": {},
   "outputs": [],
   "source": [
    "import pandas as pd"
   ]
  },
  {
   "cell_type": "code",
   "execution_count": 10,
   "id": "95e45aee-5a09-4840-81e8-eecf9c0aa8ac",
   "metadata": {},
   "outputs": [],
   "source": [
    "carbon_data_frame = pd.read_csv(file_name, header=4) # as the top rows are comments, headers and csv are starting in the 5th row (index 4)"
   ]
  },
  {
   "cell_type": "code",
   "execution_count": 16,
   "id": "663eb721-2f0f-4630-923f-99d87b3bf20b",
   "metadata": {},
   "outputs": [
    {
     "data": {
      "text/html": [
       "<div>\n",
       "<style scoped>\n",
       "    .dataframe tbody tr th:only-of-type {\n",
       "        vertical-align: middle;\n",
       "    }\n",
       "\n",
       "    .dataframe tbody tr th {\n",
       "        vertical-align: top;\n",
       "    }\n",
       "\n",
       "    .dataframe thead th {\n",
       "        text-align: right;\n",
       "    }\n",
       "</style>\n",
       "<table border=\"1\" class=\"dataframe\">\n",
       "  <thead>\n",
       "    <tr style=\"text-align: right;\">\n",
       "      <th></th>\n",
       "      <th>Answer Page</th>\n",
       "      <th>Metric</th>\n",
       "      <th>Company</th>\n",
       "      <th>Year</th>\n",
       "      <th>Value</th>\n",
       "      <th>Source Page</th>\n",
       "      <th>Answer ID</th>\n",
       "      <th>Original Source</th>\n",
       "      <th>Source Count</th>\n",
       "      <th>Comments</th>\n",
       "    </tr>\n",
       "  </thead>\n",
       "  <tbody>\n",
       "    <tr>\n",
       "      <th>0</th>\n",
       "      <td>https://wikirate.org/~15558672</td>\n",
       "      <td>Global Reporting Initiative+Indirect greenhous...</td>\n",
       "      <td>Hitachi Ltd.</td>\n",
       "      <td>2022</td>\n",
       "      <td>268.75</td>\n",
       "      <td>https://wikirate.org/~15558046</td>\n",
       "      <td>15558672.0</td>\n",
       "      <td>NaN</td>\n",
       "      <td>1.0</td>\n",
       "      <td>Pg62- \"Indirect emissions from the production ...</td>\n",
       "    </tr>\n",
       "    <tr>\n",
       "      <th>1</th>\n",
       "      <td>https://wikirate.org/~15354645</td>\n",
       "      <td>Global Reporting Initiative+Indirect greenhous...</td>\n",
       "      <td>Lockheed Martin</td>\n",
       "      <td>2022</td>\n",
       "      <td>508459</td>\n",
       "      <td>https://wikirate.org/~15354635</td>\n",
       "      <td>15354645.0</td>\n",
       "      <td>NaN</td>\n",
       "      <td>1.0</td>\n",
       "      <td>pg. 44 \"SCOPE 2 EMISSIONS (2022) Gross Locatio...</td>\n",
       "    </tr>\n",
       "    <tr>\n",
       "      <th>2</th>\n",
       "      <td>https://wikirate.org/~15354567</td>\n",
       "      <td>Global Reporting Initiative+Indirect greenhous...</td>\n",
       "      <td>Caterpillar</td>\n",
       "      <td>2022</td>\n",
       "      <td>800000</td>\n",
       "      <td>https://wikirate.org/~15354555</td>\n",
       "      <td>15354567.0</td>\n",
       "      <td>https://s7d2.scene7.com/is/content/Caterpillar...</td>\n",
       "      <td>1.0</td>\n",
       "      <td>pg. 44 \"Scope 2 Location-based (million metric...</td>\n",
       "    </tr>\n",
       "  </tbody>\n",
       "</table>\n",
       "</div>"
      ],
      "text/plain": [
       "                      Answer Page  \\\n",
       "0  https://wikirate.org/~15558672   \n",
       "1  https://wikirate.org/~15354645   \n",
       "2  https://wikirate.org/~15354567   \n",
       "\n",
       "                                              Metric          Company  Year  \\\n",
       "0  Global Reporting Initiative+Indirect greenhous...     Hitachi Ltd.  2022   \n",
       "1  Global Reporting Initiative+Indirect greenhous...  Lockheed Martin  2022   \n",
       "2  Global Reporting Initiative+Indirect greenhous...      Caterpillar  2022   \n",
       "\n",
       "    Value                     Source Page   Answer ID  \\\n",
       "0  268.75  https://wikirate.org/~15558046  15558672.0   \n",
       "1  508459  https://wikirate.org/~15354635  15354645.0   \n",
       "2  800000  https://wikirate.org/~15354555  15354567.0   \n",
       "\n",
       "                                     Original Source  Source Count  \\\n",
       "0                                                NaN           1.0   \n",
       "1                                                NaN           1.0   \n",
       "2  https://s7d2.scene7.com/is/content/Caterpillar...           1.0   \n",
       "\n",
       "                                            Comments  \n",
       "0  Pg62- \"Indirect emissions from the production ...  \n",
       "1  pg. 44 \"SCOPE 2 EMISSIONS (2022) Gross Locatio...  \n",
       "2  pg. 44 \"Scope 2 Location-based (million metric...  "
      ]
     },
     "execution_count": 16,
     "metadata": {},
     "output_type": "execute_result"
    }
   ],
   "source": [
    "carbon_data_frame.head(3)"
   ]
  },
  {
   "cell_type": "markdown",
   "id": "df17a634-b746-4594-93e9-089902028df7",
   "metadata": {},
   "source": [
    "## Sanity and data quality check"
   ]
  },
  {
   "cell_type": "code",
   "execution_count": 43,
   "id": "bd7f68f6-9353-4ec3-bdb6-c727463c969e",
   "metadata": {},
   "outputs": [
    {
     "data": {
      "text/plain": [
       "'1681 rows in dataframe'"
      ]
     },
     "execution_count": 43,
     "metadata": {},
     "output_type": "execute_result"
    }
   ],
   "source": [
    "f\"{len(carbon_data_frame)} rows in dataframe\""
   ]
  },
  {
   "cell_type": "code",
   "execution_count": 15,
   "id": "dab416d2-d794-44e1-b974-f5ae02e734b4",
   "metadata": {},
   "outputs": [
    {
     "data": {
      "text/html": [
       "<div>\n",
       "<style scoped>\n",
       "    .dataframe tbody tr th:only-of-type {\n",
       "        vertical-align: middle;\n",
       "    }\n",
       "\n",
       "    .dataframe tbody tr th {\n",
       "        vertical-align: top;\n",
       "    }\n",
       "\n",
       "    .dataframe thead th {\n",
       "        text-align: right;\n",
       "    }\n",
       "</style>\n",
       "<table border=\"1\" class=\"dataframe\">\n",
       "  <thead>\n",
       "    <tr style=\"text-align: right;\">\n",
       "      <th></th>\n",
       "      <th>Answer Page</th>\n",
       "      <th>Metric</th>\n",
       "      <th>Company</th>\n",
       "      <th>Year</th>\n",
       "      <th>Value</th>\n",
       "      <th>Source Page</th>\n",
       "      <th>Answer ID</th>\n",
       "      <th>Original Source</th>\n",
       "      <th>Source Count</th>\n",
       "      <th>Comments</th>\n",
       "    </tr>\n",
       "  </thead>\n",
       "  <tbody>\n",
       "    <tr>\n",
       "      <th>count</th>\n",
       "      <td>1681</td>\n",
       "      <td>1681</td>\n",
       "      <td>1681</td>\n",
       "      <td>1681.000000</td>\n",
       "      <td>1681</td>\n",
       "      <td>1125</td>\n",
       "      <td>1.125000e+03</td>\n",
       "      <td>677</td>\n",
       "      <td>1125.000000</td>\n",
       "      <td>1065</td>\n",
       "    </tr>\n",
       "    <tr>\n",
       "      <th>unique</th>\n",
       "      <td>1681</td>\n",
       "      <td>3</td>\n",
       "      <td>100</td>\n",
       "      <td>NaN</td>\n",
       "      <td>1297</td>\n",
       "      <td>470</td>\n",
       "      <td>NaN</td>\n",
       "      <td>274</td>\n",
       "      <td>NaN</td>\n",
       "      <td>1065</td>\n",
       "    </tr>\n",
       "    <tr>\n",
       "      <th>top</th>\n",
       "      <td>https://wikirate.org/~15558672</td>\n",
       "      <td>Global Reporting Initiative+Direct greenhouse ...</td>\n",
       "      <td>Hitachi Ltd.</td>\n",
       "      <td>NaN</td>\n",
       "      <td>Unknown</td>\n",
       "      <td>https://wikirate.org/~5428665</td>\n",
       "      <td>NaN</td>\n",
       "      <td>https://en.wikipedia.org/wiki/Andeavor</td>\n",
       "      <td>NaN</td>\n",
       "      <td>Pg62- \"Indirect emissions from the production ...</td>\n",
       "    </tr>\n",
       "    <tr>\n",
       "      <th>freq</th>\n",
       "      <td>1</td>\n",
       "      <td>561</td>\n",
       "      <td>18</td>\n",
       "      <td>NaN</td>\n",
       "      <td>162</td>\n",
       "      <td>8</td>\n",
       "      <td>NaN</td>\n",
       "      <td>8</td>\n",
       "      <td>NaN</td>\n",
       "      <td>1</td>\n",
       "    </tr>\n",
       "    <tr>\n",
       "      <th>mean</th>\n",
       "      <td>NaN</td>\n",
       "      <td>NaN</td>\n",
       "      <td>NaN</td>\n",
       "      <td>2019.355146</td>\n",
       "      <td>NaN</td>\n",
       "      <td>NaN</td>\n",
       "      <td>1.020196e+07</td>\n",
       "      <td>NaN</td>\n",
       "      <td>1.051556</td>\n",
       "      <td>NaN</td>\n",
       "    </tr>\n",
       "    <tr>\n",
       "      <th>std</th>\n",
       "      <td>NaN</td>\n",
       "      <td>NaN</td>\n",
       "      <td>NaN</td>\n",
       "      <td>1.654175</td>\n",
       "      <td>NaN</td>\n",
       "      <td>NaN</td>\n",
       "      <td>4.141212e+06</td>\n",
       "      <td>NaN</td>\n",
       "      <td>0.247783</td>\n",
       "      <td>NaN</td>\n",
       "    </tr>\n",
       "    <tr>\n",
       "      <th>min</th>\n",
       "      <td>NaN</td>\n",
       "      <td>NaN</td>\n",
       "      <td>NaN</td>\n",
       "      <td>2017.000000</td>\n",
       "      <td>NaN</td>\n",
       "      <td>NaN</td>\n",
       "      <td>3.149318e+06</td>\n",
       "      <td>NaN</td>\n",
       "      <td>1.000000</td>\n",
       "      <td>NaN</td>\n",
       "    </tr>\n",
       "    <tr>\n",
       "      <th>25%</th>\n",
       "      <td>NaN</td>\n",
       "      <td>NaN</td>\n",
       "      <td>NaN</td>\n",
       "      <td>2018.000000</td>\n",
       "      <td>NaN</td>\n",
       "      <td>NaN</td>\n",
       "      <td>5.398302e+06</td>\n",
       "      <td>NaN</td>\n",
       "      <td>1.000000</td>\n",
       "      <td>NaN</td>\n",
       "    </tr>\n",
       "    <tr>\n",
       "      <th>50%</th>\n",
       "      <td>NaN</td>\n",
       "      <td>NaN</td>\n",
       "      <td>NaN</td>\n",
       "      <td>2019.000000</td>\n",
       "      <td>NaN</td>\n",
       "      <td>NaN</td>\n",
       "      <td>1.265163e+07</td>\n",
       "      <td>NaN</td>\n",
       "      <td>1.000000</td>\n",
       "      <td>NaN</td>\n",
       "    </tr>\n",
       "    <tr>\n",
       "      <th>75%</th>\n",
       "      <td>NaN</td>\n",
       "      <td>NaN</td>\n",
       "      <td>NaN</td>\n",
       "      <td>2021.000000</td>\n",
       "      <td>NaN</td>\n",
       "      <td>NaN</td>\n",
       "      <td>1.265399e+07</td>\n",
       "      <td>NaN</td>\n",
       "      <td>1.000000</td>\n",
       "      <td>NaN</td>\n",
       "    </tr>\n",
       "    <tr>\n",
       "      <th>max</th>\n",
       "      <td>NaN</td>\n",
       "      <td>NaN</td>\n",
       "      <td>NaN</td>\n",
       "      <td>2022.000000</td>\n",
       "      <td>NaN</td>\n",
       "      <td>NaN</td>\n",
       "      <td>1.596019e+07</td>\n",
       "      <td>NaN</td>\n",
       "      <td>3.000000</td>\n",
       "      <td>NaN</td>\n",
       "    </tr>\n",
       "  </tbody>\n",
       "</table>\n",
       "</div>"
      ],
      "text/plain": [
       "                           Answer Page  \\\n",
       "count                             1681   \n",
       "unique                            1681   \n",
       "top     https://wikirate.org/~15558672   \n",
       "freq                                 1   \n",
       "mean                               NaN   \n",
       "std                                NaN   \n",
       "min                                NaN   \n",
       "25%                                NaN   \n",
       "50%                                NaN   \n",
       "75%                                NaN   \n",
       "max                                NaN   \n",
       "\n",
       "                                                   Metric       Company  \\\n",
       "count                                                1681          1681   \n",
       "unique                                                  3           100   \n",
       "top     Global Reporting Initiative+Direct greenhouse ...  Hitachi Ltd.   \n",
       "freq                                                  561            18   \n",
       "mean                                                  NaN           NaN   \n",
       "std                                                   NaN           NaN   \n",
       "min                                                   NaN           NaN   \n",
       "25%                                                   NaN           NaN   \n",
       "50%                                                   NaN           NaN   \n",
       "75%                                                   NaN           NaN   \n",
       "max                                                   NaN           NaN   \n",
       "\n",
       "               Year    Value                    Source Page     Answer ID  \\\n",
       "count   1681.000000     1681                           1125  1.125000e+03   \n",
       "unique          NaN     1297                            470           NaN   \n",
       "top             NaN  Unknown  https://wikirate.org/~5428665           NaN   \n",
       "freq            NaN      162                              8           NaN   \n",
       "mean    2019.355146      NaN                            NaN  1.020196e+07   \n",
       "std        1.654175      NaN                            NaN  4.141212e+06   \n",
       "min     2017.000000      NaN                            NaN  3.149318e+06   \n",
       "25%     2018.000000      NaN                            NaN  5.398302e+06   \n",
       "50%     2019.000000      NaN                            NaN  1.265163e+07   \n",
       "75%     2021.000000      NaN                            NaN  1.265399e+07   \n",
       "max     2022.000000      NaN                            NaN  1.596019e+07   \n",
       "\n",
       "                               Original Source  Source Count  \\\n",
       "count                                      677   1125.000000   \n",
       "unique                                     274           NaN   \n",
       "top     https://en.wikipedia.org/wiki/Andeavor           NaN   \n",
       "freq                                         8           NaN   \n",
       "mean                                       NaN      1.051556   \n",
       "std                                        NaN      0.247783   \n",
       "min                                        NaN      1.000000   \n",
       "25%                                        NaN      1.000000   \n",
       "50%                                        NaN      1.000000   \n",
       "75%                                        NaN      1.000000   \n",
       "max                                        NaN      3.000000   \n",
       "\n",
       "                                                 Comments  \n",
       "count                                                1065  \n",
       "unique                                               1065  \n",
       "top     Pg62- \"Indirect emissions from the production ...  \n",
       "freq                                                    1  \n",
       "mean                                                  NaN  \n",
       "std                                                   NaN  \n",
       "min                                                   NaN  \n",
       "25%                                                   NaN  \n",
       "50%                                                   NaN  \n",
       "75%                                                   NaN  \n",
       "max                                                   NaN  "
      ]
     },
     "execution_count": 15,
     "metadata": {},
     "output_type": "execute_result"
    }
   ],
   "source": [
    "carbon_data_frame.describe(include='all')"
   ]
  },
  {
   "cell_type": "code",
   "execution_count": 201,
   "id": "2f0ed949-7fcd-4ec7-a93b-4a8c83647657",
   "metadata": {},
   "outputs": [
    {
     "data": {
      "text/plain": [
       "dtype('O')"
      ]
     },
     "execution_count": 201,
     "metadata": {},
     "output_type": "execute_result"
    }
   ],
   "source": [
    "# why has value no min/max?\n",
    "carbon_data_frame.Value.dtype"
   ]
  },
  {
   "cell_type": "code",
   "execution_count": 203,
   "id": "3aa92f63-246e-4035-8c17-65a52629dc8f",
   "metadata": {},
   "outputs": [
    {
     "data": {
      "text/plain": [
       "Value\n",
       "Unknown     162\n",
       "400000        9\n",
       "8000000       8\n",
       "300000        7\n",
       "11000000      5\n",
       "           ... \n",
       "10846000      1\n",
       "2389387       1\n",
       "495800        1\n",
       "2700000       1\n",
       "31830000      1\n",
       "Name: count, Length: 1297, dtype: int64"
      ]
     },
     "execution_count": 203,
     "metadata": {},
     "output_type": "execute_result"
    }
   ],
   "source": [
    "# Value is not a number(!)\n",
    "carbon_data_frame.Value.value_counts()"
   ]
  },
  {
   "cell_type": "code",
   "execution_count": 22,
   "id": "a497dc52-c3ed-4f72-8278-71608ad3f18e",
   "metadata": {},
   "outputs": [
    {
     "data": {
      "text/plain": [
       "100"
      ]
     },
     "execution_count": 22,
     "metadata": {},
     "output_type": "execute_result"
    }
   ],
   "source": [
    "# How many unique companies (sanity check, should be 100)\n",
    "len(carbon_data_frame.Company.unique())"
   ]
  },
  {
   "cell_type": "code",
   "execution_count": 39,
   "id": "7c1deb1a-6862-48fa-a085-a12ef4e1b74c",
   "metadata": {},
   "outputs": [
    {
     "data": {
      "text/plain": [
       "Answer Page           0\n",
       "Metric                0\n",
       "Company               0\n",
       "Year                  0\n",
       "Value                 0\n",
       "Source Page         556\n",
       "Answer ID           556\n",
       "Original Source    1004\n",
       "Source Count        556\n",
       "Comments            616\n",
       "dtype: int64"
      ]
     },
     "execution_count": 39,
     "metadata": {},
     "output_type": "execute_result"
    }
   ],
   "source": [
    "carbon_data_frame.isna().sum()"
   ]
  },
  {
   "cell_type": "code",
   "execution_count": 36,
   "id": "403ea67e-d1a7-4111-a659-bc8e81dc9fc0",
   "metadata": {},
   "outputs": [
    {
     "data": {
      "text/plain": [
       "Company\n",
       "Hitachi Ltd.                  18\n",
       "Ford Motor Company            18\n",
       "ThyssenKrupp Group            18\n",
       "Lukoil                        18\n",
       "Repsol                        18\n",
       "                              ..\n",
       "Engie                         15\n",
       "Korea Electric Power          12\n",
       "PTT Public Company Limited    12\n",
       "Formosa Petrochemical         12\n",
       "Shell plc                     12\n",
       "Name: count, Length: 100, dtype: int64"
      ]
     },
     "execution_count": 36,
     "metadata": {},
     "output_type": "execute_result"
    }
   ],
   "source": [
    "# which companies are covered?\n",
    "carbon_data_frame.Company.value_counts(normalize=False)"
   ]
  },
  {
   "cell_type": "code",
   "execution_count": 27,
   "id": "1f20d035-7d02-47d2-bb9b-6aca4ef14785",
   "metadata": {},
   "outputs": [
    {
     "data": {
      "text/plain": [
       "array(['Global Reporting Initiative+Indirect greenhouse gas (GHG) emissions (Scope 2), GRI 305-2 (formerly G4-EN16-a)',\n",
       "       'Commons+Greenhouse Gas Emissions Scope 1 and 2 combined',\n",
       "       'Global Reporting Initiative+Direct greenhouse gas (GHG) emissions (Scope 1), GRI 305-1-a (formerly G4-EN15-a)'],\n",
       "      dtype=object)"
      ]
     },
     "execution_count": 27,
     "metadata": {},
     "output_type": "execute_result"
    }
   ],
   "source": [
    "# How manty metrics?\n",
    "carbon_data_frame.Metric.unique()"
   ]
  },
  {
   "cell_type": "code",
   "execution_count": 33,
   "id": "69526850-9a67-4220-9051-8028e599ae93",
   "metadata": {},
   "outputs": [
    {
     "name": "stdout",
     "output_type": "stream",
     "text": [
      "Metric: Global Reporting Initiative+Indirect greenhouse gas (GHG) emissions (Scope 2), GRI 305-2 (formerly G4-EN16-a) Reports: 560 \n",
      "\n",
      "Metric: Commons+Greenhouse Gas Emissions Scope 1 and 2 combined Reports: 4 \n",
      "\n",
      "Metric: Global Reporting Initiative+Direct greenhouse gas (GHG) emissions (Scope 1), GRI 305-1-a (formerly G4-EN15-a) Reports: 561 \n",
      "\n"
     ]
    }
   ],
   "source": [
    "# reports per metric?\n",
    "for metric in carbon_data_frame.Metric.unique().tolist():\n",
    "    print(\"Metric:\", metric, \"Reports:\", carbon_data_frame[carbon_data_frame.Metric==metric][\"Answer ID\"].count(), \"\\n\")"
   ]
  },
  {
   "cell_type": "code",
   "execution_count": 26,
   "id": "8abaf925-079f-455e-9c24-aff12c991b87",
   "metadata": {},
   "outputs": [
    {
     "data": {
      "text/plain": [
       "(2017, 2022)"
      ]
     },
     "execution_count": 26,
     "metadata": {},
     "output_type": "execute_result"
    }
   ],
   "source": [
    "# which years are covered?\n",
    "carbon_data_frame.Year.min(), carbon_data_frame.Year.max()"
   ]
  },
  {
   "cell_type": "markdown",
   "id": "276ed6d4-82d2-4f8a-b3cc-d291fe0624a1",
   "metadata": {},
   "source": [
    "## Check if we have enough a for selected metric (Scope 1 Emissions)"
   ]
  },
  {
   "cell_type": "code",
   "execution_count": 146,
   "id": "08c278a3-a5fb-4f03-8ec6-66a613940d02",
   "metadata": {},
   "outputs": [],
   "source": [
    "# We take metric \"Global Reporting Initiative+Direct greenhouse gas (GHG) emissions (Scope 1), GRI 305-1-a (formerly G4-EN15-a)\"\n",
    "selected_metric = \"Global Reporting Initiative+Direct greenhouse gas (GHG) emissions (Scope 1), GRI 305-1-a (formerly G4-EN15-a)\""
   ]
  },
  {
   "cell_type": "code",
   "execution_count": 147,
   "id": "3fea9c73-6931-4cbe-bb14-12917a8c6f83",
   "metadata": {},
   "outputs": [
    {
     "data": {
      "text/plain": [
       "561"
      ]
     },
     "execution_count": 147,
     "metadata": {},
     "output_type": "execute_result"
    }
   ],
   "source": [
    "carbon_data_frame_selected = carbon_data_frame[carbon_data_frame.Metric == selected_metric]\n",
    "len(carbon_data_frame_selected)"
   ]
  },
  {
   "cell_type": "code",
   "execution_count": 170,
   "id": "c0bb0774-9336-4ff5-a185-176a26f63312",
   "metadata": {},
   "outputs": [
    {
     "data": {
      "text/plain": [
       "99"
      ]
     },
     "execution_count": 170,
     "metadata": {},
     "output_type": "execute_result"
    }
   ],
   "source": [
    "len(carbon_data_frame_selected.Company.unique())"
   ]
  },
  {
   "cell_type": "code",
   "execution_count": 148,
   "id": "0cddd777-79a1-4ef7-9b76-2ae87c6fcd5f",
   "metadata": {},
   "outputs": [
    {
     "data": {
      "text/html": [
       "<div>\n",
       "<style scoped>\n",
       "    .dataframe tbody tr th:only-of-type {\n",
       "        vertical-align: middle;\n",
       "    }\n",
       "\n",
       "    .dataframe tbody tr th {\n",
       "        vertical-align: top;\n",
       "    }\n",
       "\n",
       "    .dataframe thead th {\n",
       "        text-align: right;\n",
       "    }\n",
       "</style>\n",
       "<table border=\"1\" class=\"dataframe\">\n",
       "  <thead>\n",
       "    <tr style=\"text-align: right;\">\n",
       "      <th></th>\n",
       "      <th>Answer Page</th>\n",
       "      <th>Metric</th>\n",
       "      <th>Company</th>\n",
       "      <th>Year</th>\n",
       "      <th>Value</th>\n",
       "      <th>Source Page</th>\n",
       "      <th>Answer ID</th>\n",
       "      <th>Original Source</th>\n",
       "      <th>Source Count</th>\n",
       "      <th>Comments</th>\n",
       "    </tr>\n",
       "  </thead>\n",
       "  <tbody>\n",
       "    <tr>\n",
       "      <th>121</th>\n",
       "      <td>https://wikirate.org/~15327033</td>\n",
       "      <td>Global Reporting Initiative+Direct greenhouse ...</td>\n",
       "      <td>Procter &amp; Gamble Co.</td>\n",
       "      <td>2022</td>\n",
       "      <td>2160</td>\n",
       "      <td>https://wikirate.org/~15327027</td>\n",
       "      <td>15327033.0</td>\n",
       "      <td>NaN</td>\n",
       "      <td>1.0</td>\n",
       "      <td>pg. 23 \"Scope 1 — Direct GHG Emissions (metric...</td>\n",
       "    </tr>\n",
       "    <tr>\n",
       "      <th>122</th>\n",
       "      <td>https://wikirate.org/~15327197</td>\n",
       "      <td>Global Reporting Initiative+Direct greenhouse ...</td>\n",
       "      <td>Fiat Chrysler Automobiles (FCA)</td>\n",
       "      <td>2022</td>\n",
       "      <td>1500000</td>\n",
       "      <td>https://wikirate.org/~15327189</td>\n",
       "      <td>15327197.0</td>\n",
       "      <td>https://www.stellantis.com/content/dam/stellan...</td>\n",
       "      <td>1.0</td>\n",
       "      <td>pg. 67 \"Global Stellantis carbon footprint Sco...</td>\n",
       "    </tr>\n",
       "    <tr>\n",
       "      <th>123</th>\n",
       "      <td>https://wikirate.org/~15326995</td>\n",
       "      <td>Global Reporting Initiative+Direct greenhouse ...</td>\n",
       "      <td>Ford Motor Company</td>\n",
       "      <td>2022</td>\n",
       "      <td>1250000</td>\n",
       "      <td>https://wikirate.org/~15326989</td>\n",
       "      <td>15326995.0</td>\n",
       "      <td>NaN</td>\n",
       "      <td>1.0</td>\n",
       "      <td>pg. 102 \"Worldwide Operations GHG Emissions (m...</td>\n",
       "    </tr>\n",
       "    <tr>\n",
       "      <th>124</th>\n",
       "      <td>https://wikirate.org/~15065471</td>\n",
       "      <td>Global Reporting Initiative+Direct greenhouse ...</td>\n",
       "      <td>BP plc.</td>\n",
       "      <td>2022</td>\n",
       "      <td>30.4</td>\n",
       "      <td>https://wikirate.org/~15065462</td>\n",
       "      <td>15065471.0</td>\n",
       "      <td>NaN</td>\n",
       "      <td>1.0</td>\n",
       "      <td>p. 22 Diana Čechová[https://wikirate.org/Diana...</td>\n",
       "    </tr>\n",
       "    <tr>\n",
       "      <th>125</th>\n",
       "      <td>https://wikirate.org/~14557230</td>\n",
       "      <td>Global Reporting Initiative+Direct greenhouse ...</td>\n",
       "      <td>BHP Billiton</td>\n",
       "      <td>2022</td>\n",
       "      <td>9200000</td>\n",
       "      <td>https://wikirate.org/~14557205</td>\n",
       "      <td>14557230.0</td>\n",
       "      <td>NaN</td>\n",
       "      <td>1.0</td>\n",
       "      <td>p. 49 Lucia Ixtacuy[https://wikirate.org/Lucia...</td>\n",
       "    </tr>\n",
       "  </tbody>\n",
       "</table>\n",
       "</div>"
      ],
      "text/plain": [
       "                        Answer Page  \\\n",
       "121  https://wikirate.org/~15327033   \n",
       "122  https://wikirate.org/~15327197   \n",
       "123  https://wikirate.org/~15326995   \n",
       "124  https://wikirate.org/~15065471   \n",
       "125  https://wikirate.org/~14557230   \n",
       "\n",
       "                                                Metric  \\\n",
       "121  Global Reporting Initiative+Direct greenhouse ...   \n",
       "122  Global Reporting Initiative+Direct greenhouse ...   \n",
       "123  Global Reporting Initiative+Direct greenhouse ...   \n",
       "124  Global Reporting Initiative+Direct greenhouse ...   \n",
       "125  Global Reporting Initiative+Direct greenhouse ...   \n",
       "\n",
       "                             Company  Year    Value  \\\n",
       "121             Procter & Gamble Co.  2022     2160   \n",
       "122  Fiat Chrysler Automobiles (FCA)  2022  1500000   \n",
       "123               Ford Motor Company  2022  1250000   \n",
       "124                          BP plc.  2022     30.4   \n",
       "125                     BHP Billiton  2022  9200000   \n",
       "\n",
       "                        Source Page   Answer ID  \\\n",
       "121  https://wikirate.org/~15327027  15327033.0   \n",
       "122  https://wikirate.org/~15327189  15327197.0   \n",
       "123  https://wikirate.org/~15326989  15326995.0   \n",
       "124  https://wikirate.org/~15065462  15065471.0   \n",
       "125  https://wikirate.org/~14557205  14557230.0   \n",
       "\n",
       "                                       Original Source  Source Count  \\\n",
       "121                                                NaN           1.0   \n",
       "122  https://www.stellantis.com/content/dam/stellan...           1.0   \n",
       "123                                                NaN           1.0   \n",
       "124                                                NaN           1.0   \n",
       "125                                                NaN           1.0   \n",
       "\n",
       "                                              Comments  \n",
       "121  pg. 23 \"Scope 1 — Direct GHG Emissions (metric...  \n",
       "122  pg. 67 \"Global Stellantis carbon footprint Sco...  \n",
       "123  pg. 102 \"Worldwide Operations GHG Emissions (m...  \n",
       "124  p. 22 Diana Čechová[https://wikirate.org/Diana...  \n",
       "125  p. 49 Lucia Ixtacuy[https://wikirate.org/Lucia...  "
      ]
     },
     "execution_count": 148,
     "metadata": {},
     "output_type": "execute_result"
    }
   ],
   "source": [
    "carbon_data_frame_selected.head()"
   ]
  },
  {
   "cell_type": "code",
   "execution_count": 149,
   "id": "19983da7-e4c2-4abe-967a-7e3138066ab2",
   "metadata": {},
   "outputs": [
    {
     "data": {
      "text/plain": [
       "<Axes: xlabel='Year'>"
      ]
     },
     "execution_count": 149,
     "metadata": {},
     "output_type": "execute_result"
    },
    {
     "data": {
      "image/png": "[encoded data removed]",
      "text/plain": [
       "<Figure size 640x480 with 1 Axes>"
      ]
     },
     "metadata": {},
     "output_type": "display_data"
    }
   ],
   "source": [
    "carbon_data_frame_selected.Year.value_counts().plot(kind=\"bar\")"
   ]
  },
  {
   "cell_type": "code",
   "execution_count": 150,
   "id": "9e244ab6-d385-48c3-b1b6-139582ba9516",
   "metadata": {},
   "outputs": [
    {
     "data": {
      "text/plain": [
       "Value\n",
       "Unknown     42\n",
       "11100000     3\n",
       "24800000     3\n",
       "21400000     3\n",
       "740000       3\n",
       "            ..\n",
       "13300000     1\n",
       "920000       1\n",
       "63           1\n",
       "74414000     1\n",
       "30160000     1\n",
       "Name: count, Length: 488, dtype: int64"
      ]
     },
     "execution_count": 150,
     "metadata": {},
     "output_type": "execute_result"
    }
   ],
   "source": [
    "carbon_data_frame_selected.Value.value_counts()"
   ]
  },
  {
   "cell_type": "code",
   "execution_count": 151,
   "id": "201309de-7065-40cf-9ff3-39bf1287918e",
   "metadata": {},
   "outputs": [
    {
     "data": {
      "text/plain": [
       "dtype('O')"
      ]
     },
     "execution_count": 151,
     "metadata": {},
     "output_type": "execute_result"
    }
   ],
   "source": [
    "carbon_data_frame_selected.Value.dtype"
   ]
  },
  {
   "cell_type": "code",
   "execution_count": 152,
   "id": "07ba6593-d70c-4999-8192-136f06efdd26",
   "metadata": {},
   "outputs": [],
   "source": [
    "# remove rows with unknown\n",
    "carbon_data_frame_selected = carbon_data_frame_selected[carbon_data_frame_selected.Value!=\"Unknown\"]"
   ]
  },
  {
   "cell_type": "code",
   "execution_count": 153,
   "id": "4eafdd61-2522-4c61-8159-9565f1ab4ed7",
   "metadata": {},
   "outputs": [],
   "source": [
    "carbon_data_frame_selected.Value = carbon_data_frame_selected.Value.astype(float)"
   ]
  },
  {
   "cell_type": "code",
   "execution_count": 154,
   "id": "9d4e1e27-432b-4e8f-bd49-8f6290de0d04",
   "metadata": {},
   "outputs": [
    {
     "data": {
      "image/png": "[encoded data removed]",
      "text/plain": [
       "<Figure size 640x480 with 1 Axes>"
      ]
     },
     "metadata": {},
     "output_type": "display_data"
    }
   ],
   "source": [
    "import pandas as pd\n",
    "import matplotlib.pyplot as plt\n",
    "\n",
    "# Assuming df is your DataFrame with 'Year' and 'Value' columns\n",
    "\n",
    "# Group by 'Year' and calculate the percentiles\n",
    "percentiles_per_year = carbon_data_frame_selected.groupby('Year')['Value'].quantile([0.25, 0.5, 0.75])\n",
    "\n",
    "# Unstack the multi-index and plot\n",
    "ax = percentiles_per_year.unstack().boxplot()\n",
    "# Prevent scientific notation on y-axis\n",
    "ax.ticklabel_format(style='sci', axis='y')\n",
    "\n",
    "plt.grid(True)\n",
    "\n",
    "plt.show()"
   ]
  },
  {
   "cell_type": "code",
   "execution_count": 155,
   "id": "a7d03795-97b6-42f3-8e78-aefe7948abf6",
   "metadata": {},
   "outputs": [
    {
     "data": {
      "image/png": "[encoded data removed]",
      "text/plain": [
       "<Figure size 640x480 with 1 Axes>"
      ]
     },
     "metadata": {},
     "output_type": "display_data"
    }
   ],
   "source": [
    "# distribution of values over years\n",
    "ax = carbon_data_frame_selected.plot(kind='scatter', x=\"Year\", y=\"Value\")\n",
    "\n",
    "# Prevent scientific notation on y-axis\n",
    "ax.ticklabel_format(style='sci', axis='y')\n",
    "\n",
    "plt.show()"
   ]
  },
  {
   "cell_type": "code",
   "execution_count": 185,
   "id": "1987a620-9d29-478c-9943-3bb344c4c11c",
   "metadata": {},
   "outputs": [
    {
     "data": {
      "text/plain": [
       "<Axes: title={'center': 'Number of year records per company'}, xlabel='Number of years recorded', ylabel='Number of Comapnies'>"
      ]
     },
     "execution_count": 185,
     "metadata": {},
     "output_type": "execute_result"
    },
    {
     "data": {
      "image/png": "[encoded data removed]",
      "text/plain": [
       "<Figure size 640x480 with 1 Axes>"
      ]
     },
     "metadata": {},
     "output_type": "display_data"
    }
   ],
   "source": [
    "# how many timestamps per company are available?\n",
    "carbon_data_frame_selected.groupby(\"Company\").Year.count()\\\n",
    ".value_counts().plot(kind=\"bar\", title=\"Number of year records per company\", ylabel=\"Number of Comapnies\", xlabel=\"Number of years recorded\")"
   ]
  },
  {
   "cell_type": "code",
   "execution_count": 199,
   "id": "dd148a67-2c13-4c21-bc02-138a44e38920",
   "metadata": {},
   "outputs": [
    {
     "data": {
      "text/plain": [
       "95"
      ]
     },
     "execution_count": 199,
     "metadata": {},
     "output_type": "execute_result"
    }
   ],
   "source": [
    "# How many companies have at least 3 values on diffferent timestamps recorded?\n",
    "counts = carbon_data_frame_selected.groupby(\"Company\").Year.count()\n",
    "len(counts[counts>=3])"
   ]
  },
  {
   "cell_type": "markdown",
   "id": "a7e5360c-8879-4d14-bb6e-58bab2c368c5",
   "metadata": {},
   "source": [
    "## Conclusion\n",
    "\n",
    "1) Data holds values of CO2 emissions per company, on different scopes (1 vs 263)\n",
    "2) Value columns needs to be transformed/normalized\n",
    "3) Not all companies have records for all years\n",
    "4) Additional columns are not needed to draw trends"
   ]
  },
  {
   "cell_type": "markdown",
   "id": "87f2762b-13eb-4ad7-ad0d-487f17c9c3b8",
   "metadata": {},
   "source": [
    "## Excercise\n",
    "1) Use the data from https://wikirate.org/Global_Reporting_Initiative+Total_Waste_Generated_GRI_306_2_formerly_G4_EN23_a to do the same analysis. The topic is generated waste.\n",
    "    \n",
    "    Question:\n",
    "        For the same companies shown here, how did their waste change in the same time range (2017 to 2023)?\n",
    "\n",
    "\n",
    "2) Use the data from hhttps://wikirate.org/Global_Reporting_Initiative+Fuel_consumption_from_non_renewable_sources_GRI_302_1_a_formerly_G4_EN3_a to do the same analysis. The topic is fuel consumption. Check how may companies overlap in these 3 datasets.\n",
    "\n",
    "3) Analyze the data from https://datacatalog.worldbank.org/search/dataset/0037712/World-Development-Indicators in regards to germany, and how our efforts compare to e.g. France.\n",
    "\n",
    "4) Use https://pandas.pydata.org/docs/user_guide/scale.html and this dataset https://www.kaggle.com/datasets/peopledatalabssf/free-7-million-company-dataset to create a new csv based on the companies from the first df, that contains: Company Name, Countryy, industry"
   ]
  },
  {
   "cell_type": "code",
   "execution_count": null,
   "id": "cde60b88-52ca-47a8-8f6b-b51eb2d4d41e",
   "metadata": {},
   "outputs": [],
   "source": []
  }
 ],
 "metadata": {
  "kernelspec": {
   "display_name": "Python 3 (ipykernel)",
   "language": "python",
   "name": "python3"
  },
  "language_info": {
   "codemirror_mode": {
    "name": "ipython",
    "version": 3
   },
   "file_extension": ".py",
   "mimetype": "text/x-python",
   "name": "python",
   "nbconvert_exporter": "python",
   "pygments_lexer": "ipython3",
   "version": "3.11.2"
  }
 },
 "nbformat": 4,
 "nbformat_minor": 5
}

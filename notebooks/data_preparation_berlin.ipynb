{
 "cells": [
  {
   "cell_type": "markdown",
   "id": "1eccdce5-2908-40df-900d-3f3364fcffaf",
   "metadata": {},
   "source": [
    "## Data Source"
   ]
  },
  {
   "cell_type": "code",
   "execution_count": 170,
   "id": "26aca7a4",
   "metadata": {},
   "outputs": [],
   "source": [
    "file_name_1 = (\n",
    "    \"../data/WikiRate-2024_04_07_165420-Climate_100_GHG_Emissions+Answer-extended.csv\"\n",
    ")\n",
    "\n",
    "file_name_2 = \"../data/WikiRate-2024_04_07_212938-Fuel_consumption_from_non_renewable_sources_GRI_302_1_a_formerly_G4_EN3_a+Answer.csv\""
   ]
  },
  {
   "cell_type": "markdown",
   "id": "b7c3d6ca-e0b5-4c80-be20-e93f70aabfe3",
   "metadata": {},
   "source": [
    "## Load data from csv"
   ]
  },
  {
   "cell_type": "code",
   "execution_count": 171,
   "id": "1a23c21b-f6b9-4937-bc85-9fec02f0a3ef",
   "metadata": {},
   "outputs": [],
   "source": [
    "import pandas as pd"
   ]
  },
  {
   "cell_type": "code",
   "execution_count": 172,
   "id": "95e45aee-5a09-4840-81e8-eecf9c0aa8ac",
   "metadata": {},
   "outputs": [],
   "source": [
    "df_emission = pd.read_csv(\n",
    "    file_name_1, header=4\n",
    ")  # as the top rows are comments, headers and csv are starting in the 5th row (index 4)\n",
    "df_fuel_consumption = pd.read_csv(\n",
    "    file_name_2, header=4\n",
    ")  # as the top rows are comments, headers and csv are starting in the 5th row (index 4)"
   ]
  },
  {
   "cell_type": "code",
   "execution_count": 173,
   "id": "ab66cfd7",
   "metadata": {},
   "outputs": [
    {
     "data": {
      "text/plain": [
       "['Fiat Chrysler Automobiles (FCA)',\n",
       " 'Coal India Limited',\n",
       " 'Wesfarmers Limited',\n",
       " 'Canadian Natural Resources',\n",
       " 'China Shenhua Energy',\n",
       " 'Rolls-Royce Holdings',\n",
       " 'Reliance Industries Limited',\n",
       " 'Korea Electric Power',\n",
       " 'Toray Industries',\n",
       " 'Panasonic Corporation']"
      ]
     },
     "execution_count": 173,
     "metadata": {},
     "output_type": "execute_result"
    }
   ],
   "source": [
    "# check if data is related\n",
    "# we assume the company name is a unique identifier\n",
    "\n",
    "overlap = set(df_emission.Company.unique()).intersection(set(df_fuel_consumption.Company.unique()))\n",
    "list(overlap)[:10]"
   ]
  },
  {
   "cell_type": "code",
   "execution_count": 174,
   "id": "ae1f6bf7",
   "metadata": {},
   "outputs": [
    {
     "data": {
      "text/plain": [
       "0.92"
      ]
     },
     "execution_count": 174,
     "metadata": {},
     "output_type": "execute_result"
    }
   ],
   "source": [
    "# relative overlap\n",
    "relative_overlap = len(overlap) / len(df_emission.Company.unique())\n",
    "relative_overlap"
   ]
  },
  {
   "cell_type": "markdown",
   "id": "88efbf35",
   "metadata": {},
   "source": [
    "### Prepare Emission data"
   ]
  },
  {
   "cell_type": "code",
   "execution_count": 175,
   "id": "4a21b47c",
   "metadata": {},
   "outputs": [
    {
     "data": {
      "text/html": [
       "<div>\n",
       "<style scoped>\n",
       "    .dataframe tbody tr th:only-of-type {\n",
       "        vertical-align: middle;\n",
       "    }\n",
       "\n",
       "    .dataframe tbody tr th {\n",
       "        vertical-align: top;\n",
       "    }\n",
       "\n",
       "    .dataframe thead th {\n",
       "        text-align: right;\n",
       "    }\n",
       "</style>\n",
       "<table border=\"1\" class=\"dataframe\">\n",
       "  <thead>\n",
       "    <tr style=\"text-align: right;\">\n",
       "      <th></th>\n",
       "      <th>Answer Page</th>\n",
       "      <th>Metric</th>\n",
       "      <th>Company</th>\n",
       "      <th>Year</th>\n",
       "      <th>Value</th>\n",
       "      <th>Source Page</th>\n",
       "      <th>Answer ID</th>\n",
       "      <th>Original Source</th>\n",
       "      <th>Source Count</th>\n",
       "      <th>Comments</th>\n",
       "    </tr>\n",
       "  </thead>\n",
       "  <tbody>\n",
       "    <tr>\n",
       "      <th>0</th>\n",
       "      <td>https://wikirate.org/~15558672</td>\n",
       "      <td>Global Reporting Initiative+Indirect greenhous...</td>\n",
       "      <td>Hitachi Ltd.</td>\n",
       "      <td>2022</td>\n",
       "      <td>268.75</td>\n",
       "      <td>https://wikirate.org/~15558046</td>\n",
       "      <td>15558672.0</td>\n",
       "      <td>NaN</td>\n",
       "      <td>1.0</td>\n",
       "      <td>Pg62- \"Indirect emissions from the production ...</td>\n",
       "    </tr>\n",
       "    <tr>\n",
       "      <th>1</th>\n",
       "      <td>https://wikirate.org/~15354645</td>\n",
       "      <td>Global Reporting Initiative+Indirect greenhous...</td>\n",
       "      <td>Lockheed Martin</td>\n",
       "      <td>2022</td>\n",
       "      <td>508459</td>\n",
       "      <td>https://wikirate.org/~15354635</td>\n",
       "      <td>15354645.0</td>\n",
       "      <td>NaN</td>\n",
       "      <td>1.0</td>\n",
       "      <td>pg. 44 \"SCOPE 2 EMISSIONS (2022) Gross Locatio...</td>\n",
       "    </tr>\n",
       "    <tr>\n",
       "      <th>2</th>\n",
       "      <td>https://wikirate.org/~15354567</td>\n",
       "      <td>Global Reporting Initiative+Indirect greenhous...</td>\n",
       "      <td>Caterpillar</td>\n",
       "      <td>2022</td>\n",
       "      <td>800000</td>\n",
       "      <td>https://wikirate.org/~15354555</td>\n",
       "      <td>15354567.0</td>\n",
       "      <td>https://s7d2.scene7.com/is/content/Caterpillar...</td>\n",
       "      <td>1.0</td>\n",
       "      <td>pg. 44 \"Scope 2 Location-based (million metric...</td>\n",
       "    </tr>\n",
       "    <tr>\n",
       "      <th>3</th>\n",
       "      <td>https://wikirate.org/~15354729</td>\n",
       "      <td>Global Reporting Initiative+Indirect greenhous...</td>\n",
       "      <td>Koninklijke Philips N.V</td>\n",
       "      <td>2022</td>\n",
       "      <td>23000</td>\n",
       "      <td>https://wikirate.org/~15354717</td>\n",
       "      <td>15354729.0</td>\n",
       "      <td>https://www.results.philips.com/publications/a...</td>\n",
       "      <td>1.0</td>\n",
       "      <td>pg. 59 \"Operational carbon footprint by scope ...</td>\n",
       "    </tr>\n",
       "    <tr>\n",
       "      <th>4</th>\n",
       "      <td>https://wikirate.org/~15327015</td>\n",
       "      <td>Global Reporting Initiative+Indirect greenhous...</td>\n",
       "      <td>Volkswagen AG</td>\n",
       "      <td>2022</td>\n",
       "      <td>2110000</td>\n",
       "      <td>https://wikirate.org/~15327007</td>\n",
       "      <td>15327015.0</td>\n",
       "      <td>https://www.volkswagenag.com/presence/nachhalt...</td>\n",
       "      <td>1.0</td>\n",
       "      <td>pg. 53 \"Scope 2 GHG emissions (absolute) in mi...</td>\n",
       "    </tr>\n",
       "  </tbody>\n",
       "</table>\n",
       "</div>"
      ],
      "text/plain": [
       "                      Answer Page  \\\n",
       "0  https://wikirate.org/~15558672   \n",
       "1  https://wikirate.org/~15354645   \n",
       "2  https://wikirate.org/~15354567   \n",
       "3  https://wikirate.org/~15354729   \n",
       "4  https://wikirate.org/~15327015   \n",
       "\n",
       "                                              Metric                  Company  \\\n",
       "0  Global Reporting Initiative+Indirect greenhous...             Hitachi Ltd.   \n",
       "1  Global Reporting Initiative+Indirect greenhous...          Lockheed Martin   \n",
       "2  Global Reporting Initiative+Indirect greenhous...              Caterpillar   \n",
       "3  Global Reporting Initiative+Indirect greenhous...  Koninklijke Philips N.V   \n",
       "4  Global Reporting Initiative+Indirect greenhous...            Volkswagen AG   \n",
       "\n",
       "   Year    Value                     Source Page   Answer ID  \\\n",
       "0  2022   268.75  https://wikirate.org/~15558046  15558672.0   \n",
       "1  2022   508459  https://wikirate.org/~15354635  15354645.0   \n",
       "2  2022   800000  https://wikirate.org/~15354555  15354567.0   \n",
       "3  2022    23000  https://wikirate.org/~15354717  15354729.0   \n",
       "4  2022  2110000  https://wikirate.org/~15327007  15327015.0   \n",
       "\n",
       "                                     Original Source  Source Count  \\\n",
       "0                                                NaN           1.0   \n",
       "1                                                NaN           1.0   \n",
       "2  https://s7d2.scene7.com/is/content/Caterpillar...           1.0   \n",
       "3  https://www.results.philips.com/publications/a...           1.0   \n",
       "4  https://www.volkswagenag.com/presence/nachhalt...           1.0   \n",
       "\n",
       "                                            Comments  \n",
       "0  Pg62- \"Indirect emissions from the production ...  \n",
       "1  pg. 44 \"SCOPE 2 EMISSIONS (2022) Gross Locatio...  \n",
       "2  pg. 44 \"Scope 2 Location-based (million metric...  \n",
       "3  pg. 59 \"Operational carbon footprint by scope ...  \n",
       "4  pg. 53 \"Scope 2 GHG emissions (absolute) in mi...  "
      ]
     },
     "execution_count": 175,
     "metadata": {},
     "output_type": "execute_result"
    }
   ],
   "source": [
    "df_emission.head()"
   ]
  },
  {
   "cell_type": "code",
   "execution_count": 176,
   "id": "239dad18",
   "metadata": {},
   "outputs": [
    {
     "data": {
      "text/html": [
       "<div>\n",
       "<style scoped>\n",
       "    .dataframe tbody tr th:only-of-type {\n",
       "        vertical-align: middle;\n",
       "    }\n",
       "\n",
       "    .dataframe tbody tr th {\n",
       "        vertical-align: top;\n",
       "    }\n",
       "\n",
       "    .dataframe thead th {\n",
       "        text-align: right;\n",
       "    }\n",
       "</style>\n",
       "<table border=\"1\" class=\"dataframe\">\n",
       "  <thead>\n",
       "    <tr style=\"text-align: right;\">\n",
       "      <th></th>\n",
       "      <th>Year</th>\n",
       "      <th>Answer ID</th>\n",
       "      <th>Source Count</th>\n",
       "    </tr>\n",
       "  </thead>\n",
       "  <tbody>\n",
       "    <tr>\n",
       "      <th>count</th>\n",
       "      <td>1681.000000</td>\n",
       "      <td>1.125000e+03</td>\n",
       "      <td>1125.000000</td>\n",
       "    </tr>\n",
       "    <tr>\n",
       "      <th>mean</th>\n",
       "      <td>2019.355146</td>\n",
       "      <td>1.020196e+07</td>\n",
       "      <td>1.051556</td>\n",
       "    </tr>\n",
       "    <tr>\n",
       "      <th>std</th>\n",
       "      <td>1.654175</td>\n",
       "      <td>4.141212e+06</td>\n",
       "      <td>0.247783</td>\n",
       "    </tr>\n",
       "    <tr>\n",
       "      <th>min</th>\n",
       "      <td>2017.000000</td>\n",
       "      <td>3.149318e+06</td>\n",
       "      <td>1.000000</td>\n",
       "    </tr>\n",
       "    <tr>\n",
       "      <th>25%</th>\n",
       "      <td>2018.000000</td>\n",
       "      <td>5.398302e+06</td>\n",
       "      <td>1.000000</td>\n",
       "    </tr>\n",
       "    <tr>\n",
       "      <th>50%</th>\n",
       "      <td>2019.000000</td>\n",
       "      <td>1.265163e+07</td>\n",
       "      <td>1.000000</td>\n",
       "    </tr>\n",
       "    <tr>\n",
       "      <th>75%</th>\n",
       "      <td>2021.000000</td>\n",
       "      <td>1.265399e+07</td>\n",
       "      <td>1.000000</td>\n",
       "    </tr>\n",
       "    <tr>\n",
       "      <th>max</th>\n",
       "      <td>2022.000000</td>\n",
       "      <td>1.596019e+07</td>\n",
       "      <td>3.000000</td>\n",
       "    </tr>\n",
       "  </tbody>\n",
       "</table>\n",
       "</div>"
      ],
      "text/plain": [
       "              Year     Answer ID  Source Count\n",
       "count  1681.000000  1.125000e+03   1125.000000\n",
       "mean   2019.355146  1.020196e+07      1.051556\n",
       "std       1.654175  4.141212e+06      0.247783\n",
       "min    2017.000000  3.149318e+06      1.000000\n",
       "25%    2018.000000  5.398302e+06      1.000000\n",
       "50%    2019.000000  1.265163e+07      1.000000\n",
       "75%    2021.000000  1.265399e+07      1.000000\n",
       "max    2022.000000  1.596019e+07      3.000000"
      ]
     },
     "execution_count": 176,
     "metadata": {},
     "output_type": "execute_result"
    }
   ],
   "source": [
    "df_emission.describe()"
   ]
  },
  {
   "cell_type": "code",
   "execution_count": 177,
   "id": "8b3cfaf1",
   "metadata": {},
   "outputs": [
    {
     "data": {
      "text/plain": [
       "Metric\n",
       "Global Reporting Initiative+Direct greenhouse gas (GHG) emissions (Scope 1), GRI 305-1-a (formerly G4-EN15-a)    561\n",
       "Global Reporting Initiative+Indirect greenhouse gas (GHG) emissions (Scope 2), GRI 305-2 (formerly G4-EN16-a)    560\n",
       "Commons+Greenhouse Gas Emissions Scope 1 and 2 combined                                                          560\n",
       "Name: count, dtype: int64"
      ]
     },
     "execution_count": 177,
     "metadata": {},
     "output_type": "execute_result"
    }
   ],
   "source": [
    "# filter by metric\n",
    "df_emission.Metric.value_counts()"
   ]
  },
  {
   "cell_type": "code",
   "execution_count": 178,
   "id": "0f7447c4",
   "metadata": {},
   "outputs": [],
   "source": [
    "selected_metric = \"Commons+Greenhouse Gas Emissions Scope 1 and 2 combined\"\n",
    "df_emission = df_emission[df_emission.Metric==selected_metric]"
   ]
  },
  {
   "cell_type": "code",
   "execution_count": 179,
   "id": "286741d1",
   "metadata": {},
   "outputs": [],
   "source": [
    "# select columns and rename\n",
    "df_emission = df_emission[[\"Company\", \"Year\", \"Value\"]]\n",
    "df_emission.rename({\"Value\": \"value_emissions_tonnes_co2e\"}, axis=1, inplace=True)"
   ]
  },
  {
   "cell_type": "code",
   "execution_count": 180,
   "id": "be34caab",
   "metadata": {},
   "outputs": [],
   "source": [
    "# remove \"Unknown\" values\n",
    "df_emission = df_emission[~df_emission.value_emissions_tonnes_co2e.str.startswith(\"Unknown\")]\n",
    "df_emission.value_emissions_tonnes_co2e = df_emission.value_emissions_tonnes_co2e.astype(float)"
   ]
  },
  {
   "cell_type": "code",
   "execution_count": 181,
   "id": "880174a2",
   "metadata": {},
   "outputs": [
    {
     "data": {
      "text/plain": [
       "(500,\n",
       "                             Company  Year  value_emissions_tonnes_co2e\n",
       " 51             Procter & Gamble Co.  2022                    2325606.0\n",
       " 52  Fiat Chrysler Automobiles (FCA)  2022                    4050209.0\n",
       " 53               Ford Motor Company  2022                    3000000.0\n",
       " 54                          BP plc.  2022                    1500030.4\n",
       " 55                     BHP Billiton  2022                   14000000.0)"
      ]
     },
     "execution_count": 181,
     "metadata": {},
     "output_type": "execute_result"
    }
   ],
   "source": [
    "len(df_emission), df_emission.head()"
   ]
  },
  {
   "cell_type": "markdown",
   "id": "50dee818",
   "metadata": {},
   "source": [
    "### Prepare fuel consumption data"
   ]
  },
  {
   "cell_type": "code",
   "execution_count": 182,
   "id": "418efa12",
   "metadata": {},
   "outputs": [
    {
     "data": {
      "text/html": [
       "<div>\n",
       "<style scoped>\n",
       "    .dataframe tbody tr th:only-of-type {\n",
       "        vertical-align: middle;\n",
       "    }\n",
       "\n",
       "    .dataframe tbody tr th {\n",
       "        vertical-align: top;\n",
       "    }\n",
       "\n",
       "    .dataframe thead th {\n",
       "        text-align: right;\n",
       "    }\n",
       "</style>\n",
       "<table border=\"1\" class=\"dataframe\">\n",
       "  <thead>\n",
       "    <tr style=\"text-align: right;\">\n",
       "      <th></th>\n",
       "      <th>Answer Page</th>\n",
       "      <th>Metric</th>\n",
       "      <th>Company</th>\n",
       "      <th>Year</th>\n",
       "      <th>Value</th>\n",
       "      <th>Source Page</th>\n",
       "    </tr>\n",
       "  </thead>\n",
       "  <tbody>\n",
       "    <tr>\n",
       "      <th>0</th>\n",
       "      <td>https://wikirate.org/~18085259</td>\n",
       "      <td>Global Reporting Initiative+Fuel consumption f...</td>\n",
       "      <td>Gildan Activewear Inc.</td>\n",
       "      <td>2023</td>\n",
       "      <td>1310000</td>\n",
       "      <td>https://wikirate.org/~18085203</td>\n",
       "    </tr>\n",
       "    <tr>\n",
       "      <th>1</th>\n",
       "      <td>https://wikirate.org/~18084377</td>\n",
       "      <td>Global Reporting Initiative+Fuel consumption f...</td>\n",
       "      <td>Sports Direct</td>\n",
       "      <td>2023</td>\n",
       "      <td>825014.82</td>\n",
       "      <td>https://wikirate.org/~18084191</td>\n",
       "    </tr>\n",
       "    <tr>\n",
       "      <th>2</th>\n",
       "      <td>https://wikirate.org/~18082944</td>\n",
       "      <td>Global Reporting Initiative+Fuel consumption f...</td>\n",
       "      <td>Ralph Lauren Corporation</td>\n",
       "      <td>2023</td>\n",
       "      <td>802692</td>\n",
       "      <td>https://wikirate.org/~18082539</td>\n",
       "    </tr>\n",
       "    <tr>\n",
       "      <th>3</th>\n",
       "      <td>https://wikirate.org/~18082850</td>\n",
       "      <td>Global Reporting Initiative+Fuel consumption f...</td>\n",
       "      <td>Nike Inc.</td>\n",
       "      <td>2023</td>\n",
       "      <td>769464</td>\n",
       "      <td>https://wikirate.org/~18082680</td>\n",
       "    </tr>\n",
       "    <tr>\n",
       "      <th>4</th>\n",
       "      <td>https://wikirate.org/~13924743</td>\n",
       "      <td>Global Reporting Initiative+Fuel consumption f...</td>\n",
       "      <td>Itochu</td>\n",
       "      <td>2023</td>\n",
       "      <td>295271</td>\n",
       "      <td>https://wikirate.org/~15553023</td>\n",
       "    </tr>\n",
       "  </tbody>\n",
       "</table>\n",
       "</div>"
      ],
      "text/plain": [
       "                      Answer Page  \\\n",
       "0  https://wikirate.org/~18085259   \n",
       "1  https://wikirate.org/~18084377   \n",
       "2  https://wikirate.org/~18082944   \n",
       "3  https://wikirate.org/~18082850   \n",
       "4  https://wikirate.org/~13924743   \n",
       "\n",
       "                                              Metric  \\\n",
       "0  Global Reporting Initiative+Fuel consumption f...   \n",
       "1  Global Reporting Initiative+Fuel consumption f...   \n",
       "2  Global Reporting Initiative+Fuel consumption f...   \n",
       "3  Global Reporting Initiative+Fuel consumption f...   \n",
       "4  Global Reporting Initiative+Fuel consumption f...   \n",
       "\n",
       "                    Company  Year      Value                     Source Page  \n",
       "0    Gildan Activewear Inc.  2023    1310000  https://wikirate.org/~18085203  \n",
       "1             Sports Direct  2023  825014.82  https://wikirate.org/~18084191  \n",
       "2  Ralph Lauren Corporation  2023     802692  https://wikirate.org/~18082539  \n",
       "3                 Nike Inc.  2023     769464  https://wikirate.org/~18082680  \n",
       "4                    Itochu  2023     295271  https://wikirate.org/~15553023  "
      ]
     },
     "execution_count": 182,
     "metadata": {},
     "output_type": "execute_result"
    }
   ],
   "source": [
    "df_fuel_consumption.head()"
   ]
  },
  {
   "cell_type": "code",
   "execution_count": 183,
   "id": "cd7f7a3b",
   "metadata": {},
   "outputs": [
    {
     "data": {
      "text/plain": [
       "Metric\n",
       "Global Reporting Initiative+Fuel consumption from non-renewable sources, GRI 302-1-a (formerly G4-EN3-a)    3544\n",
       "Name: count, dtype: int64"
      ]
     },
     "execution_count": 183,
     "metadata": {},
     "output_type": "execute_result"
    }
   ],
   "source": [
    "df_fuel_consumption.Metric.value_counts()"
   ]
  },
  {
   "cell_type": "code",
   "execution_count": 184,
   "id": "30244c27",
   "metadata": {},
   "outputs": [
    {
     "data": {
      "text/html": [
       "<div>\n",
       "<style scoped>\n",
       "    .dataframe tbody tr th:only-of-type {\n",
       "        vertical-align: middle;\n",
       "    }\n",
       "\n",
       "    .dataframe tbody tr th {\n",
       "        vertical-align: top;\n",
       "    }\n",
       "\n",
       "    .dataframe thead th {\n",
       "        text-align: right;\n",
       "    }\n",
       "</style>\n",
       "<table border=\"1\" class=\"dataframe\">\n",
       "  <thead>\n",
       "    <tr style=\"text-align: right;\">\n",
       "      <th></th>\n",
       "      <th>Year</th>\n",
       "    </tr>\n",
       "  </thead>\n",
       "  <tbody>\n",
       "    <tr>\n",
       "      <th>count</th>\n",
       "      <td>3544.000000</td>\n",
       "    </tr>\n",
       "    <tr>\n",
       "      <th>mean</th>\n",
       "      <td>2017.289503</td>\n",
       "    </tr>\n",
       "    <tr>\n",
       "      <th>std</th>\n",
       "      <td>2.991991</td>\n",
       "    </tr>\n",
       "    <tr>\n",
       "      <th>min</th>\n",
       "      <td>2003.000000</td>\n",
       "    </tr>\n",
       "    <tr>\n",
       "      <th>25%</th>\n",
       "      <td>2015.000000</td>\n",
       "    </tr>\n",
       "    <tr>\n",
       "      <th>50%</th>\n",
       "      <td>2017.000000</td>\n",
       "    </tr>\n",
       "    <tr>\n",
       "      <th>75%</th>\n",
       "      <td>2019.000000</td>\n",
       "    </tr>\n",
       "    <tr>\n",
       "      <th>max</th>\n",
       "      <td>2023.000000</td>\n",
       "    </tr>\n",
       "  </tbody>\n",
       "</table>\n",
       "</div>"
      ],
      "text/plain": [
       "              Year\n",
       "count  3544.000000\n",
       "mean   2017.289503\n",
       "std       2.991991\n",
       "min    2003.000000\n",
       "25%    2015.000000\n",
       "50%    2017.000000\n",
       "75%    2019.000000\n",
       "max    2023.000000"
      ]
     },
     "execution_count": 184,
     "metadata": {},
     "output_type": "execute_result"
    }
   ],
   "source": [
    "df_fuel_consumption.describe()"
   ]
  },
  {
   "cell_type": "code",
   "execution_count": 185,
   "id": "3667f296",
   "metadata": {},
   "outputs": [],
   "source": [
    "# select columns and rename\n",
    "df_fuel_consumption = df_fuel_consumption[[\"Company\", \"Year\", \"Value\"]]\n",
    "df_fuel_consumption.rename({\"Value\": \"value_fuel_consumption_gigajoules\"}, axis=1, inplace=True)"
   ]
  },
  {
   "cell_type": "code",
   "execution_count": 187,
   "id": "13cf5b6a",
   "metadata": {},
   "outputs": [],
   "source": [
    "# remove \"Unknown\" values\n",
    "df_fuel_consumption.value_fuel_consumption_gigajoules = df_fuel_consumption.value_fuel_consumption_gigajoules.apply(lambda val: None if val.lower() == \"unknown\" else val)\n",
    "df_fuel_consumption = df_fuel_consumption.dropna()\n",
    "df_fuel_consumption.value_fuel_consumption_gigajoules = df_fuel_consumption.value_fuel_consumption_gigajoules.astype(float)"
   ]
  },
  {
   "cell_type": "code",
   "execution_count": 188,
   "id": "ca4aa90a",
   "metadata": {},
   "outputs": [
    {
     "data": {
      "text/html": [
       "<div>\n",
       "<style scoped>\n",
       "    .dataframe tbody tr th:only-of-type {\n",
       "        vertical-align: middle;\n",
       "    }\n",
       "\n",
       "    .dataframe tbody tr th {\n",
       "        vertical-align: top;\n",
       "    }\n",
       "\n",
       "    .dataframe thead th {\n",
       "        text-align: right;\n",
       "    }\n",
       "</style>\n",
       "<table border=\"1\" class=\"dataframe\">\n",
       "  <thead>\n",
       "    <tr style=\"text-align: right;\">\n",
       "      <th></th>\n",
       "      <th>Company</th>\n",
       "      <th>Year</th>\n",
       "      <th>value_fuel_consumption_gigajoules</th>\n",
       "    </tr>\n",
       "  </thead>\n",
       "  <tbody>\n",
       "    <tr>\n",
       "      <th>0</th>\n",
       "      <td>Gildan Activewear Inc.</td>\n",
       "      <td>2023</td>\n",
       "      <td>1310000.00</td>\n",
       "    </tr>\n",
       "    <tr>\n",
       "      <th>1</th>\n",
       "      <td>Sports Direct</td>\n",
       "      <td>2023</td>\n",
       "      <td>825014.82</td>\n",
       "    </tr>\n",
       "    <tr>\n",
       "      <th>2</th>\n",
       "      <td>Ralph Lauren Corporation</td>\n",
       "      <td>2023</td>\n",
       "      <td>802692.00</td>\n",
       "    </tr>\n",
       "    <tr>\n",
       "      <th>3</th>\n",
       "      <td>Nike Inc.</td>\n",
       "      <td>2023</td>\n",
       "      <td>769464.00</td>\n",
       "    </tr>\n",
       "    <tr>\n",
       "      <th>4</th>\n",
       "      <td>Itochu</td>\n",
       "      <td>2023</td>\n",
       "      <td>295271.00</td>\n",
       "    </tr>\n",
       "  </tbody>\n",
       "</table>\n",
       "</div>"
      ],
      "text/plain": [
       "                    Company  Year  value_fuel_consumption_gigajoules\n",
       "0    Gildan Activewear Inc.  2023                         1310000.00\n",
       "1             Sports Direct  2023                          825014.82\n",
       "2  Ralph Lauren Corporation  2023                          802692.00\n",
       "3                 Nike Inc.  2023                          769464.00\n",
       "4                    Itochu  2023                          295271.00"
      ]
     },
     "execution_count": 188,
     "metadata": {},
     "output_type": "execute_result"
    }
   ],
   "source": [
    "df_fuel_consumption.head()"
   ]
  },
  {
   "cell_type": "code",
   "execution_count": 189,
   "id": "eebf596e",
   "metadata": {},
   "outputs": [
    {
     "data": {
      "text/plain": [
       "1701"
      ]
     },
     "execution_count": 189,
     "metadata": {},
     "output_type": "execute_result"
    }
   ],
   "source": [
    "len(df_fuel_consumption)"
   ]
  },
  {
   "cell_type": "markdown",
   "id": "bf4f0d7c",
   "metadata": {},
   "source": [
    "### Select and join"
   ]
  },
  {
   "cell_type": "code",
   "execution_count": 190,
   "id": "b5408b18",
   "metadata": {},
   "outputs": [],
   "source": [
    "df_emission.Company = df_emission.Company.astype(str)"
   ]
  },
  {
   "cell_type": "code",
   "execution_count": 191,
   "id": "70c44bf6",
   "metadata": {},
   "outputs": [],
   "source": [
    "df_fuel_consumption.Company = df_fuel_consumption.Company.astype(str)"
   ]
  },
  {
   "cell_type": "code",
   "execution_count": 192,
   "id": "61a7ac38",
   "metadata": {},
   "outputs": [
    {
     "data": {
      "text/html": [
       "<div>\n",
       "<style scoped>\n",
       "    .dataframe tbody tr th:only-of-type {\n",
       "        vertical-align: middle;\n",
       "    }\n",
       "\n",
       "    .dataframe tbody tr th {\n",
       "        vertical-align: top;\n",
       "    }\n",
       "\n",
       "    .dataframe thead th {\n",
       "        text-align: right;\n",
       "    }\n",
       "</style>\n",
       "<table border=\"1\" class=\"dataframe\">\n",
       "  <thead>\n",
       "    <tr style=\"text-align: right;\">\n",
       "      <th></th>\n",
       "      <th>Company</th>\n",
       "      <th>Year</th>\n",
       "      <th>value_emissions_tonnes_co2e</th>\n",
       "      <th>value_fuel_consumption_gigajoules</th>\n",
       "    </tr>\n",
       "  </thead>\n",
       "  <tbody>\n",
       "    <tr>\n",
       "      <th>0</th>\n",
       "      <td>Airbus Group</td>\n",
       "      <td>2022</td>\n",
       "      <td>857000.0</td>\n",
       "      <td>11.2</td>\n",
       "    </tr>\n",
       "    <tr>\n",
       "      <th>1</th>\n",
       "      <td>BASF SE</td>\n",
       "      <td>2022</td>\n",
       "      <td>60426000.0</td>\n",
       "      <td>21240000.0</td>\n",
       "    </tr>\n",
       "    <tr>\n",
       "      <th>2</th>\n",
       "      <td>Sasol</td>\n",
       "      <td>2022</td>\n",
       "      <td>63571000.0</td>\n",
       "      <td>66000.0</td>\n",
       "    </tr>\n",
       "    <tr>\n",
       "      <th>3</th>\n",
       "      <td>Eni SpA</td>\n",
       "      <td>2022</td>\n",
       "      <td>40180000.0</td>\n",
       "      <td>395.1</td>\n",
       "    </tr>\n",
       "    <tr>\n",
       "      <th>4</th>\n",
       "      <td>Bayer AG</td>\n",
       "      <td>2022</td>\n",
       "      <td>3470000.0</td>\n",
       "      <td>17525000.0</td>\n",
       "    </tr>\n",
       "  </tbody>\n",
       "</table>\n",
       "</div>"
      ],
      "text/plain": [
       "        Company  Year  value_emissions_tonnes_co2e  \\\n",
       "0  Airbus Group  2022                     857000.0   \n",
       "1       BASF SE  2022                   60426000.0   \n",
       "2         Sasol  2022                   63571000.0   \n",
       "3       Eni SpA  2022                   40180000.0   \n",
       "4      Bayer AG  2022                    3470000.0   \n",
       "\n",
       "   value_fuel_consumption_gigajoules  \n",
       "0                               11.2  \n",
       "1                         21240000.0  \n",
       "2                            66000.0  \n",
       "3                              395.1  \n",
       "4                         17525000.0  "
      ]
     },
     "execution_count": 192,
     "metadata": {},
     "output_type": "execute_result"
    }
   ],
   "source": [
    "import pandas as pd\n",
    "df_joined = pd.merge(df_emission, df_fuel_consumption, on=[\"Company\", \"Year\"], how=\"inner\")\n",
    "df_joined.head()"
   ]
  },
  {
   "cell_type": "code",
   "execution_count": 193,
   "id": "8dabad41",
   "metadata": {},
   "outputs": [
    {
     "data": {
      "text/plain": [
       "(94, 43)"
      ]
     },
     "execution_count": 193,
     "metadata": {},
     "output_type": "execute_result"
    }
   ],
   "source": [
    "# sanity check\n",
    "len(df_joined), len(df_joined.Company.unique())"
   ]
  },
  {
   "cell_type": "code",
   "execution_count": 194,
   "id": "27438c3b",
   "metadata": {},
   "outputs": [
    {
     "data": {
      "text/plain": [
       "<Axes: xlabel='Year'>"
      ]
     },
     "execution_count": 194,
     "metadata": {},
     "output_type": "execute_result"
    },
    {
     "data": {
      "image/png": "[encoded data removed]",
      "text/plain": [
       "<Figure size 640x480 with 1 Axes>"
      ]
     },
     "metadata": {},
     "output_type": "display_data"
    }
   ],
   "source": [
    "df_joined.Year.value_counts().plot(kind=\"bar\")"
   ]
  },
  {
   "cell_type": "code",
   "execution_count": 195,
   "id": "e65d3493",
   "metadata": {},
   "outputs": [
    {
     "data": {
      "text/html": [
       "<div>\n",
       "<style scoped>\n",
       "    .dataframe tbody tr th:only-of-type {\n",
       "        vertical-align: middle;\n",
       "    }\n",
       "\n",
       "    .dataframe tbody tr th {\n",
       "        vertical-align: top;\n",
       "    }\n",
       "\n",
       "    .dataframe thead th {\n",
       "        text-align: right;\n",
       "    }\n",
       "</style>\n",
       "<table border=\"1\" class=\"dataframe\">\n",
       "  <thead>\n",
       "    <tr style=\"text-align: right;\">\n",
       "      <th></th>\n",
       "      <th>Company</th>\n",
       "      <th>Year</th>\n",
       "      <th>value_emissions_tonnes_co2e</th>\n",
       "      <th>value_fuel_consumption_gigajoules</th>\n",
       "    </tr>\n",
       "  </thead>\n",
       "  <tbody>\n",
       "    <tr>\n",
       "      <th>0</th>\n",
       "      <td>Airbus Group</td>\n",
       "      <td>2022</td>\n",
       "      <td>857000.0</td>\n",
       "      <td>11.2</td>\n",
       "    </tr>\n",
       "    <tr>\n",
       "      <th>11</th>\n",
       "      <td>Airbus Group</td>\n",
       "      <td>2021</td>\n",
       "      <td>827000.0</td>\n",
       "      <td>12.1</td>\n",
       "    </tr>\n",
       "    <tr>\n",
       "      <th>18</th>\n",
       "      <td>Airbus Group</td>\n",
       "      <td>2020</td>\n",
       "      <td>783000.0</td>\n",
       "      <td>331845592.0</td>\n",
       "    </tr>\n",
       "    <tr>\n",
       "      <th>73</th>\n",
       "      <td>Airbus Group</td>\n",
       "      <td>2017</td>\n",
       "      <td>1013101.0</td>\n",
       "      <td>4830822.0</td>\n",
       "    </tr>\n",
       "  </tbody>\n",
       "</table>\n",
       "</div>"
      ],
      "text/plain": [
       "         Company  Year  value_emissions_tonnes_co2e  \\\n",
       "0   Airbus Group  2022                     857000.0   \n",
       "11  Airbus Group  2021                     827000.0   \n",
       "18  Airbus Group  2020                     783000.0   \n",
       "73  Airbus Group  2017                    1013101.0   \n",
       "\n",
       "    value_fuel_consumption_gigajoules  \n",
       "0                                11.2  \n",
       "11                               12.1  \n",
       "18                        331845592.0  \n",
       "73                          4830822.0  "
      ]
     },
     "execution_count": 195,
     "metadata": {},
     "output_type": "execute_result"
    }
   ],
   "source": [
    "import matplotlib.pyplot as plt\n",
    "airbus = df_joined[df_joined.Company==\"Airbus Group\"]\n",
    "airbus.head()"
   ]
  },
  {
   "cell_type": "code",
   "execution_count": 196,
   "id": "1c6295c2",
   "metadata": {},
   "outputs": [
    {
     "data": {
      "image/png": "[encoded data removed]",
      "text/plain": [
       "<Figure size 640x480 with 1 Axes>"
      ]
     },
     "metadata": {},
     "output_type": "display_data"
    }
   ],
   "source": [
    "grouped = airbus.plot(kind='bar', stacked=True, x=\"Year\")\n",
    "\n",
    "# Plot stacked bar chart\n",
    "plt.xlabel('Year')\n",
    "plt.ylabel('CO2e vs. Fuel in GJ')\n",
    "plt.legend(title='Values', loc='upper right')\n",
    "plt.xticks(rotation=45)  # Rotate x-axis labels for better readability\n",
    "plt.show()"
   ]
  },
  {
   "cell_type": "code",
   "execution_count": 197,
   "id": "a7669836",
   "metadata": {},
   "outputs": [
    {
     "data": {
      "image/png": "[encoded data removed]",
      "text/plain": [
       "<Figure size 640x480 with 1 Axes>"
      ]
     },
     "metadata": {},
     "output_type": "display_data"
    }
   ],
   "source": [
    "import matplotlib.pyplot as plt\n",
    "basf = df_joined[df_joined.Company==\"BASF SE\"]\n",
    "basf.head()\n",
    "\n",
    "grouped = basf.plot(kind='bar', stacked=True, x=\"Year\")\n",
    "\n",
    "# Plot stacked bar chart\n",
    "plt.xlabel('Year')\n",
    "plt.ylabel('CO2e vs. Fuel in GJ')\n",
    "plt.legend(title='Values', loc='upper right')\n",
    "plt.xticks(rotation=45)  # Rotate x-axis labels for better readability\n",
    "plt.show()"
   ]
  },
  {
   "cell_type": "markdown",
   "id": "87f2762b-13eb-4ad7-ad0d-487f17c9c3b8",
   "metadata": {},
   "source": [
    "## Excercise\n",
    "1) Try to understand and manually correct values for e.g. Gigajoule (or remove them)\n",
    "2) Try to update the notebook, and intelligently impute the missing value instead of dropping them\n",
    "3) Analyze the data related to Waste Generation, and preare and merge it with the data here."
   ]
  },
  {
   "cell_type": "code",
   "execution_count": null,
   "id": "cde60b88-52ca-47a8-8f6b-b51eb2d4d41e",
   "metadata": {},
   "outputs": [],
   "source": []
  }
 ],
 "metadata": {
  "kernelspec": {
   "display_name": "Python 3 (ipykernel)",
   "language": "python",
   "name": "python3"
  },
  "language_info": {
   "codemirror_mode": {
    "name": "ipython",
    "version": 3
   },
   "file_extension": ".py",
   "mimetype": "text/x-python",
   "name": "python",
   "nbconvert_exporter": "python",
   "pygments_lexer": "ipython3",
   "version": "3.11.2"
  }
 },
 "nbformat": 4,
 "nbformat_minor": 5
}

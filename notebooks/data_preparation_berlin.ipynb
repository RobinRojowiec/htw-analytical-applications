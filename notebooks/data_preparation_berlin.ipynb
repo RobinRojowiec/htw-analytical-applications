{
 "cells": [
  {
   "cell_type": "markdown",
   "id": "1eccdce5-2908-40df-900d-3f3364fcffaf",
   "metadata": {},
   "source": [
    "## Data Source"
   ]
  },
  {
   "cell_type": "markdown",
   "id": "b24ffa7a-2efd-4581-b33b-49601a708971",
   "metadata": {},
   "source": [
    "### Berlin Air Quality\n",
    "- Data quality?\n"
   ]
  },
  {
   "cell_type": "markdown",
   "id": "b7c3d6ca-e0b5-4c80-be20-e93f70aabfe3",
   "metadata": {},
   "source": [
    "## Load data from csv"
   ]
  },
  {
   "cell_type": "code",
   "execution_count": 3,
   "id": "82b77fac-6d41-4553-831f-a4b67691aa41",
   "metadata": {},
   "outputs": [],
   "source": [
    "file_name = \"../data/WikiRate-2024_04_07_165420-Climate_100_GHG_Emissions+Answer-extended.csv\""
   ]
  },
  {
   "cell_type": "code",
   "execution_count": 4,
   "id": "1a23c21b-f6b9-4937-bc85-9fec02f0a3ef",
   "metadata": {},
   "outputs": [],
   "source": [
    "import pandas as pd"
   ]
  },
  {
   "cell_type": "code",
   "execution_count": 10,
   "id": "95e45aee-5a09-4840-81e8-eecf9c0aa8ac",
   "metadata": {},
   "outputs": [],
   "source": [
    "carbon_data_frame = pd.read_csv(file_name, header=4) # as the top rows are comments, headers and csv are starting in the 5th row (index 4)"
   ]
  },
  {
   "cell_type": "markdown",
   "id": "a7e5360c-8879-4d14-bb6e-58bab2c368c5",
   "metadata": {},
   "source": [
    "## Conclusion\n",
    "\n",
    "1) Data holds values of CO2 emissions per company, on different scopes (1 vs 263)\n",
    "2) Value columns needs to be transformed/normalized\n",
    "3) Not all companies have records for all years\n",
    "4) Additional columns are not needed to draw trends"
   ]
  },
  {
   "cell_type": "markdown",
   "id": "87f2762b-13eb-4ad7-ad0d-487f17c9c3b8",
   "metadata": {},
   "source": [
    "## Excercise\n",
    "1) Use the data from https://wikirate.org/Global_Reporting_Initiative+Total_Waste_Generated_GRI_306_2_formerly_G4_EN23_a to do the same analysis. The topic is generated waste.\n",
    "    \n",
    "    Question:\n",
    "        For the same companies shown here, how did their waste change in the same time range (2017 to 2023)?\n",
    "\n",
    "\n",
    "2) Use the data from hhttps://wikirate.org/Global_Reporting_Initiative+Fuel_consumption_from_non_renewable_sources_GRI_302_1_a_formerly_G4_EN3_a to do the same analysis. The topic is fuel consumption. Check how may companies overlap in these 3 datasets.\n",
    "\n",
    "3) Analyze the data from https://datacatalog.worldbank.org/search/dataset/0037712/World-Development-Indicators in regards to germany, and how our efforts compare to e.g. France.\n",
    "\n",
    "4) Use https://pandas.pydata.org/docs/user_guide/scale.html and this dataset https://www.kaggle.com/datasets/peopledatalabssf/free-7-million-company-dataset to create a new csv based on the companies from the first df, that contains: Company Name, Countryy, industry"
   ]
  },
  {
   "cell_type": "code",
   "execution_count": null,
   "id": "cde60b88-52ca-47a8-8f6b-b51eb2d4d41e",
   "metadata": {},
   "outputs": [],
   "source": []
  }
 ],
 "metadata": {
  "kernelspec": {
   "display_name": "Python 3 (ipykernel)",
   "language": "python",
   "name": "python3"
  },
  "language_info": {
   "codemirror_mode": {
    "name": "ipython",
    "version": 3
   },
   "file_extension": ".py",
   "mimetype": "text/x-python",
   "name": "python",
   "nbconvert_exporter": "python",
   "pygments_lexer": "ipython3",
   "version": "3.11.2"
  }
 },
 "nbformat": 4,
 "nbformat_minor": 5
}
